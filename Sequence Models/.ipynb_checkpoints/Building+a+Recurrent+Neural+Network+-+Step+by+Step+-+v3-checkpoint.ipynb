{
 "cells": [
  {
   "cell_type": "code",
   "execution_count": 1,
   "metadata": {},
   "outputs": [],
   "source": [
    "import numpy as np\n",
    "from rnn_utils import *\n"
   ]
  },
  {
   "cell_type": "markdown",
   "metadata": {},
   "source": [
    "## 1 - Forward propagation for the basic Recurrent Neural Network"
   ]
  },
  {
   "cell_type": "code",
   "execution_count": 7,
   "metadata": {
    "collapsed": true
   },
   "outputs": [],
   "source": [
    "\n",
    "# GRADED FUNCTION: rnn_cell_forward\n",
    "\n",
    "def rnn_cell_forward(xt, a_prev, parameters):\n",
    "    \"\"\"\n",
    "    Implements a single forward step of the RNN-cell as described in Figure (2)\n",
    "\n",
    "    Arguments:\n",
    "    xt -- your input data at timestep \"t\", numpy array of shape (n_x, m).\n",
    "    a_prev -- Hidden state at timestep \"t-1\", numpy array of shape (n_a, m)\n",
    "    parameters -- python dictionary containing:\n",
    "                        Wax -- Weight matrix multiplying the input, numpy array of shape (n_a, n_x)\n",
    "                        Waa -- Weight matrix multiplying the hidden state, numpy array of shape (n_a, n_a)\n",
    "                        Wya -- Weight matrix relating the hidden-state to the output, numpy array of shape (n_y, n_a)\n",
    "                        ba --  Bias, numpy array of shape (n_a, 1)\n",
    "                        by -- Bias relating the hidden-state to the output, numpy array of shape (n_y, 1)\n",
    "    Returns:\n",
    "    a_next -- next hidden state, of shape (n_a, m)\n",
    "    yt_pred -- prediction at timestep \"t\", numpy array of shape (n_y, m)\n",
    "    cache -- tuple of values needed for the backward pass, contains (a_next, a_prev, xt, parameters)\n",
    "    \"\"\"\n",
    "    \n",
    "    # Retrieve parameters from \"parameters\"\n",
    "    Wax = parameters[\"Wax\"]\n",
    "    Waa = parameters[\"Waa\"]\n",
    "    Wya = parameters[\"Wya\"]\n",
    "    ba = parameters[\"ba\"]\n",
    "    by = parameters[\"by\"]\n",
    "    \n",
    "    ### START CODE HERE ### (≈2 lines)\n",
    "    # compute next activation state using the formula given above\n",
    "    a_next = np.tanh(np.matmul(Wax,xt)+np.matmul(Waa,a_prev)+ba)\n",
    "    # compute output of the current cell using the formula given above\n",
    "    yt_pred = softmax(np.matmul(Wya,a_next)+by)   \n",
    "    ### END CODE HERE ###\n",
    "    \n",
    "    # store values you need for backward propagation in cache\n",
    "    cache = (a_next, a_prev, xt, parameters)\n",
    "    \n",
    "    return a_next, yt_pred, cache"
   ]
  },
  {
   "cell_type": "code",
   "execution_count": 8,
   "metadata": {},
   "outputs": [
    {
     "name": "stdout",
     "output_type": "stream",
     "text": [
      "a_next[4] =  [ 0.59584544  0.18141802  0.61311866  0.99808218  0.85016201  0.99980978\n",
      " -0.18887155  0.99815551  0.6531151   0.82872037]\n",
      "a_next.shape =  (5, 10)\n",
      "yt_pred[1] = [0.9888161  0.01682021 0.21140899 0.36817467 0.98988387 0.88945212\n",
      " 0.36920224 0.9966312  0.9982559  0.17746526]\n",
      "yt_pred.shape =  (2, 10)\n"
     ]
    }
   ],
   "source": [
    "\n",
    "np.random.seed(1)\n",
    "xt = np.random.randn(3,10)\n",
    "a_prev = np.random.randn(5,10)\n",
    "Waa = np.random.randn(5,5)\n",
    "Wax = np.random.randn(5,3)\n",
    "Wya = np.random.randn(2,5)\n",
    "ba = np.random.randn(5,1)\n",
    "by = np.random.randn(2,1)\n",
    "parameters = {\"Waa\": Waa, \"Wax\": Wax, \"Wya\": Wya, \"ba\": ba, \"by\": by}\n",
    "\n",
    "a_next, yt_pred, cache = rnn_cell_forward(xt, a_prev, parameters)\n",
    "print(\"a_next[4] = \", a_next[4])\n",
    "print(\"a_next.shape = \", a_next.shape)\n",
    "print(\"yt_pred[1] =\", yt_pred[1])\n",
    "print(\"yt_pred.shape = \", yt_pred.shape)"
   ]
  },
  {
   "cell_type": "markdown",
   "metadata": {},
   "source": [
    "----\n",
    "- a_next[4] =  [ 0.59584544  0.18141802  0.61311866  0.99808218  0.85016201  0.99980978\n",
    " -0.18887155  0.99815551  0.6531151   0.82872037]\n",
    "- a_next.shape =  (5, 10)\n",
    "- yt_pred[1] = [0.9888161  0.01682021 0.21140899 0.36817467 0.98988387 0.88945212\n",
    " 0.36920224 0.9966312  0.9982559  0.17746526]\n",
    "- yt_pred.shape =  (2, 10)\n"
   ]
  },
  {
   "cell_type": "code",
   "execution_count": 9,
   "metadata": {
    "collapsed": true
   },
   "outputs": [],
   "source": [
    "# GRADED FUNCTION: rnn_forward\n",
    "\n",
    "def rnn_forward(x, a0, parameters):\n",
    "    \"\"\"\n",
    "    Implement the forward propagation of the recurrent neural network described in Figure (3).\n",
    "\n",
    "    Arguments:\n",
    "    x -- Input data for every time-step, of shape (n_x, m, T_x).\n",
    "    a0 -- Initial hidden state, of shape (n_a, m)\n",
    "    parameters -- python dictionary containing:\n",
    "                        Waa -- Weight matrix multiplying the hidden state, numpy array of shape (n_a, n_a)\n",
    "                        Wax -- Weight matrix multiplying the input, numpy array of shape (n_a, n_x)\n",
    "                        Wya -- Weight matrix relating the hidden-state to the output, numpy array of shape (n_y, n_a)\n",
    "                        ba --  Bias numpy array of shape (n_a, 1)\n",
    "                        by -- Bias relating the hidden-state to the output, numpy array of shape (n_y, 1)\n",
    "\n",
    "    Returns:\n",
    "    a -- Hidden states for every time-step, numpy array of shape (n_a, m, T_x)\n",
    "    y_pred -- Predictions for every time-step, numpy array of shape (n_y, m, T_x)\n",
    "    caches -- tuple of values needed for the backward pass, contains (list of caches, x)\n",
    "    \"\"\"\n",
    "    \n",
    "    # Initialize \"caches\" which will contain the list of all caches\n",
    "    caches = []\n",
    "    \n",
    "    # Retrieve dimensions from shapes of x and parameters[\"Wya\"]\n",
    "    n_x, m, T_x = x.shape\n",
    "    n_y, n_a = parameters[\"Wya\"].shape\n",
    "    \n",
    "    ### START CODE HERE ###\n",
    "    \n",
    "    # initialize \"a\" and \"y\" with zeros (≈2 lines)\n",
    "    a = np.zeros((n_a, m, T_x))\n",
    "    y_pred = np.zeros((n_y, m, T_x))\n",
    "    \n",
    "    # Initialize a_next (≈1 line)\n",
    "    a_next = a0\n",
    "    \n",
    "    # loop over all time-steps\n",
    "    for t in range(T_x):\n",
    "        # Update next hidden state, compute the prediction, get the cache (≈1 line)\n",
    "        a_next, yt_pred, cache = rnn_cell_forward(x[:,:,t], a_next, parameters)\n",
    "        # Save the value of the new \"next\" hidden state in a (≈1 line)\n",
    "        a[:,:,t] = a_next\n",
    "        # Save the value of the prediction in y (≈1 line)\n",
    "        y_pred[:,:,t] = yt_pred\n",
    "        # Append \"cache\" to \"caches\" (≈1 line)\n",
    "        caches.append(cache)\n",
    "        \n",
    "    ### END CODE HERE ###\n",
    "    \n",
    "    # store values needed for backward propagation in cache\n",
    "    caches = (caches, x)\n",
    "    \n",
    "    return a, y_pred, caches"
   ]
  },
  {
   "cell_type": "code",
   "execution_count": 10,
   "metadata": {},
   "outputs": [
    {
     "name": "stdout",
     "output_type": "stream",
     "text": [
      "a =  [[[-0.94679727  0.99998902  0.99859532  0.99998339]\n",
      "  [ 0.52566384  0.99993012 -0.99996484  0.99999942]\n",
      "  [ 0.84483137  0.99971338  0.63006186  0.99999504]\n",
      "  [ 0.95268814  0.9993585   0.87825787  0.9999979 ]\n",
      "  [ 0.99996124  0.9999908   0.99897665  0.6007902 ]\n",
      "  [ 0.94354992 -0.99516219  0.99987056  0.99902443]\n",
      "  [-0.31399689  0.90494133  0.99964112  0.999997  ]\n",
      "  [ 0.9985362  -0.95921363  0.97076661  0.99792727]\n",
      "  [ 0.99995626  0.99994879  0.55718656  0.97797982]\n",
      "  [ 0.99981346 -0.99139889 -0.90908533  0.99994617]]\n",
      "\n",
      " [[ 0.9017533  -0.0035545  -0.40146936  0.47240999]\n",
      "  [-0.64008899 -0.99808521  0.90937915  0.99308063]\n",
      "  [-0.61107796 -0.93987579 -0.82797531 -0.99944897]\n",
      "  [ 0.69254271  0.70004749  0.95560602  0.03494921]\n",
      "  [ 0.99323355  0.98511719  0.93041097  0.99371087]\n",
      "  [-0.97376282  0.89291419  0.9777595   0.68670555]\n",
      "  [ 0.96905989  0.84821902  0.99428756  0.91339115]\n",
      "  [ 0.63387486 -0.0561147  -0.06557296 -0.0515541 ]\n",
      "  [ 0.34250436  0.76229843  0.89552076 -0.60056774]\n",
      "  [-0.83173001  0.94604565  0.99882607  0.98957886]]\n",
      "\n",
      " [[ 0.97087407  0.96868192  0.9860278   0.62437977]\n",
      "  [ 0.32586574 -0.91931824  0.62536152  0.83109594]\n",
      "  [ 0.94009082  0.79972708  0.98280633 -0.9114071 ]\n",
      "  [ 0.97102425  0.69671275  0.99918672 -0.81446397]\n",
      "  [ 0.99869819  0.81461615 -0.34958752  0.98390801]\n",
      "  [-0.9227938   0.99784354  0.99857354  0.94312789]\n",
      "  [-0.97880697  0.62394864  0.99397484 -0.99894842]\n",
      "  [-0.78819779  0.19186314  0.91860743  0.9916753 ]\n",
      "  [ 0.99957809 -0.91253018  0.71732866 -0.45986869]\n",
      "  [-0.84758466 -0.98924985  0.99999082  0.99746386]]\n",
      "\n",
      " [[-0.9104497   0.99927595  0.94217573 -0.98743686]\n",
      "  [-0.96081056  0.99726769 -0.98947737 -0.97175622]\n",
      "  [-0.93837279 -0.99812032 -0.99997534  0.9759714 ]\n",
      "  [ 0.9957971   0.98744174 -0.91907333  0.30870646]\n",
      "  [ 0.84483456  0.05888194  0.57284256 -0.99798536]\n",
      "  [ 0.98777081 -0.99999738 -0.91229958 -0.77235035]\n",
      "  [-0.73832733  0.84553649 -0.98818114  0.08833992]\n",
      "  [-0.99876665  0.81798993  0.99999724  0.73642847]\n",
      "  [ 0.41236695  0.75086186 -0.36929754  0.99998852]\n",
      "  [ 0.93310421 -0.01108915 -0.99769046 -0.94005036]]\n",
      "\n",
      " [[-0.99935897 -0.57882882  0.99953622  0.99692362]\n",
      "  [-0.99999375  0.77911235 -0.99861469 -0.99833267]\n",
      "  [ 0.98895163  0.9905525   0.87805502  0.99623046]\n",
      "  [ 0.9999802   0.99693738  0.99745184  0.97406138]\n",
      "  [-0.9912801   0.98087418  0.76076959  0.54482277]\n",
      "  [ 0.74865774 -0.59005528 -0.97721203  0.92063859]\n",
      "  [-0.96279238 -0.99825059  0.95668547 -0.76146336]\n",
      "  [-0.99251598 -0.95934467 -0.97402324  0.99861032]\n",
      "  [ 0.93272501  0.81262652  0.65510908  0.69252916]\n",
      "  [-0.1343305  -0.99995298 -0.9994704  -0.98612292]]]\n",
      "a[4][1] =  [-0.99999375  0.77911235 -0.99861469 -0.99833267]\n",
      "a.shape =  (5, 10, 4)\n",
      "y_pred[1][3] = [0.79560373 0.86224861 0.11118257 0.81515947]\n",
      "y_pred.shape =  (2, 10, 4)\n",
      "caches[1][1][3] = [-1.1425182  -0.34934272 -0.20889423  0.58662319]\n",
      "len(caches) =  2\n"
     ]
    }
   ],
   "source": [
    "np.random.seed(1)\n",
    "x = np.random.randn(3,10,4)\n",
    "a0 = np.random.randn(5,10)\n",
    "Waa = np.random.randn(5,5)\n",
    "Wax = np.random.randn(5,3)\n",
    "Wya = np.random.randn(2,5)\n",
    "ba = np.random.randn(5,1)\n",
    "by = np.random.randn(2,1)\n",
    "parameters = {\"Waa\": Waa, \"Wax\": Wax, \"Wya\": Wya, \"ba\": ba, \"by\": by}\n",
    "\n",
    "a, y_pred, caches = rnn_forward(x, a0, parameters)\n",
    "print(\"a = \", a)\n",
    "print(\"a[4][1] = \", a[4][1])\n",
    "print(\"a.shape = \", a.shape)\n",
    "print(\"y_pred[1][3] =\", y_pred[1][3])\n",
    "print(\"y_pred.shape = \", y_pred.shape)\n",
    "print(\"caches[1][1][3] =\", caches[1][1][3])\n",
    "print(\"len(caches) = \", len(caches))"
   ]
  },
  {
   "cell_type": "markdown",
   "metadata": {},
   "source": [
    "## 2 - Long Short-Term Memory (LSTM) network"
   ]
  },
  {
   "cell_type": "code",
   "execution_count": null,
   "metadata": {
    "collapsed": true
   },
   "outputs": [],
   "source": []
  }
 ],
 "metadata": {
  "kernelspec": {
   "display_name": "Python 3",
   "language": "python",
   "name": "python3"
  },
  "language_info": {
   "codemirror_mode": {
    "name": "ipython",
    "version": 3
   },
   "file_extension": ".py",
   "mimetype": "text/x-python",
   "name": "python",
   "nbconvert_exporter": "python",
   "pygments_lexer": "ipython3",
   "version": "3.6.3"
  }
 },
 "nbformat": 4,
 "nbformat_minor": 1
}
